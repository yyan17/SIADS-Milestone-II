{
 "cells": [
  {
   "attachments": {},
   "cell_type": "markdown",
   "id": "6ce4e845",
   "metadata": {},
   "source": [
    "Milestone 2 | June 2023 | Group 15\n",
    "\n",
    "This notebook is used to explore our top 3 SL models and to perform model evaluation."
   ]
  },
  {
   "cell_type": "code",
   "execution_count": 1,
   "id": "c68dbea1",
   "metadata": {},
   "outputs": [],
   "source": [
    "# Predicting Match Results using Season To Date data (derived from main dataset containing only in-match data)\n",
    "# Note: No in-match data is considered for this exercise"
   ]
  },
  {
   "cell_type": "code",
   "execution_count": 2,
   "id": "1a28564a",
   "metadata": {},
   "outputs": [],
   "source": [
    "import pandas as pd\n",
    "import numpy as np\n",
    "import sklearn\n",
    "\n",
    "from sklearn.preprocessing import LabelEncoder\n",
    "from sklearn.model_selection import train_test_split\n",
    "from sklearn.preprocessing import StandardScaler\n",
    "\n",
    "from sklearn.linear_model import LogisticRegression\n",
    "from sklearn.feature_selection import SelectKBest, f_classif\n",
    "from sklearn.dummy import DummyClassifier\n",
    "from sklearn import svm\n",
    "from sklearn.ensemble import RandomForestClassifier\n",
    "from sklearn.datasets import make_classification"
   ]
  },
  {
   "cell_type": "code",
   "execution_count": 3,
   "id": "1c03a0d4",
   "metadata": {},
   "outputs": [],
   "source": [
    "from sklearn.metrics import accuracy_score, precision_score, recall_score, f1_score\n",
    "from sklearn.metrics import classification_report\n",
    "from sklearn.metrics import confusion_matrix, ConfusionMatrixDisplay\n",
    "import matplotlib.pyplot as plt\n",
    "\n",
    "def model_evaluation(y_test_values, y_predicted, clf_name, clf):\n",
    "    print(f'Model Accuracy Score: {accuracy_score(y_test_values, y_predicted)}')\n",
    "    print('='*42)\n",
    "    print(f'{clf_name} Classification Report:\\n {classification_report(y_test_values, y_predicted)}')\n",
    "    print()\n",
    "    print('='*42)    \n",
    "    cm = confusion_matrix(y_test_values, y_predicted, labels=clf.classes_)\n",
    "    disp = ConfusionMatrixDisplay(confusion_matrix=cm,\n",
    "                              display_labels=clf.classes_)\n",
    "    \n",
    "    disp.plot()\n",
    "#     plt.show()"
   ]
  },
  {
   "cell_type": "code",
   "execution_count": 4,
   "id": "e659f0d3",
   "metadata": {},
   "outputs": [],
   "source": [
    "from sklearn.model_selection import cross_val_score\n",
    "\n",
    "def cross_val_score_calc(model, model_name, xtrain, ytrain, cv_int):\n",
    "    print(\"=\" * 24)\n",
    "    scores = cross_val_score(model, xtrain, ytrain, cv=cv_int)\n",
    "    print(f'{model_name} Five Cross Fold Validation Scores:\\n {scores}')\n",
    "    print(f'Mean: {round(np.mean(scores),3)}')\n",
    "    print(f'Standard Deviation: {round(np.std(scores),3)}')\n",
    "    print(\"=\" * 24)"
   ]
  },
  {
   "attachments": {},
   "cell_type": "markdown",
   "id": "248a21cc",
   "metadata": {},
   "source": [
    "# 1. Load and prep the Season to Date (S2D) dataset* \n",
    "*Derived from the original dataset (containing only in-match data) to be part of a model"
   ]
  },
  {
   "attachments": {},
   "cell_type": "markdown",
   "id": "7ac28f25",
   "metadata": {},
   "source": [
    "#### Loading our derived dataset with season to date metrics:"
   ]
  },
  {
   "cell_type": "code",
   "execution_count": 5,
   "id": "64c0d1fd",
   "metadata": {},
   "outputs": [
    {
     "name": "stdout",
     "output_type": "stream",
     "text": [
      "(8020, 125)\n"
     ]
    },
    {
     "data": {
      "text/html": [
       "<div>\n",
       "<style scoped>\n",
       "    .dataframe tbody tr th:only-of-type {\n",
       "        vertical-align: middle;\n",
       "    }\n",
       "\n",
       "    .dataframe tbody tr th {\n",
       "        vertical-align: top;\n",
       "    }\n",
       "\n",
       "    .dataframe thead th {\n",
       "        text-align: right;\n",
       "    }\n",
       "</style>\n",
       "<table border=\"1\" class=\"dataframe\">\n",
       "  <thead>\n",
       "    <tr style=\"text-align: right;\">\n",
       "      <th></th>\n",
       "      <th>date</th>\n",
       "      <th>season</th>\n",
       "      <th>home_team</th>\n",
       "      <th>away_team</th>\n",
       "      <th>FTR</th>\n",
       "      <th>H_home_goals_s2d</th>\n",
       "      <th>H_away_goals_s2d</th>\n",
       "      <th>H_total_goals_s2d</th>\n",
       "      <th>H_avg_home_goals_s2d</th>\n",
       "      <th>H_avg_away_goals_s2d</th>\n",
       "      <th>...</th>\n",
       "      <th>A_total_points_s2d</th>\n",
       "      <th>A_avg_home_points_s2d</th>\n",
       "      <th>A_avg_away_points_s2d</th>\n",
       "      <th>A_avg_points_s2d</th>\n",
       "      <th>A_home_points_against_s2d</th>\n",
       "      <th>A_away_points_against_s2d</th>\n",
       "      <th>A_total_points_against_s2d</th>\n",
       "      <th>A_avg_home_points_against_s2d</th>\n",
       "      <th>A_avg_away_points_against_s2d</th>\n",
       "      <th>A_avg_points_against_s2d</th>\n",
       "    </tr>\n",
       "  </thead>\n",
       "  <tbody>\n",
       "    <tr>\n",
       "      <th>0</th>\n",
       "      <td>2000-08-19</td>\n",
       "      <td>1</td>\n",
       "      <td>Charlton</td>\n",
       "      <td>Man City</td>\n",
       "      <td>H</td>\n",
       "      <td>NaN</td>\n",
       "      <td>NaN</td>\n",
       "      <td>NaN</td>\n",
       "      <td>NaN</td>\n",
       "      <td>NaN</td>\n",
       "      <td>...</td>\n",
       "      <td>NaN</td>\n",
       "      <td>NaN</td>\n",
       "      <td>NaN</td>\n",
       "      <td>NaN</td>\n",
       "      <td>NaN</td>\n",
       "      <td>NaN</td>\n",
       "      <td>NaN</td>\n",
       "      <td>NaN</td>\n",
       "      <td>NaN</td>\n",
       "      <td>NaN</td>\n",
       "    </tr>\n",
       "    <tr>\n",
       "      <th>1</th>\n",
       "      <td>2000-08-19</td>\n",
       "      <td>1</td>\n",
       "      <td>Chelsea</td>\n",
       "      <td>West Ham</td>\n",
       "      <td>H</td>\n",
       "      <td>NaN</td>\n",
       "      <td>NaN</td>\n",
       "      <td>NaN</td>\n",
       "      <td>NaN</td>\n",
       "      <td>NaN</td>\n",
       "      <td>...</td>\n",
       "      <td>NaN</td>\n",
       "      <td>NaN</td>\n",
       "      <td>NaN</td>\n",
       "      <td>NaN</td>\n",
       "      <td>NaN</td>\n",
       "      <td>NaN</td>\n",
       "      <td>NaN</td>\n",
       "      <td>NaN</td>\n",
       "      <td>NaN</td>\n",
       "      <td>NaN</td>\n",
       "    </tr>\n",
       "  </tbody>\n",
       "</table>\n",
       "<p>2 rows × 125 columns</p>\n",
       "</div>"
      ],
      "text/plain": [
       "         date  season home_team away_team FTR  H_home_goals_s2d  \\\n",
       "0  2000-08-19       1  Charlton  Man City   H               NaN   \n",
       "1  2000-08-19       1   Chelsea  West Ham   H               NaN   \n",
       "\n",
       "   H_away_goals_s2d  H_total_goals_s2d  H_avg_home_goals_s2d  \\\n",
       "0               NaN                NaN                   NaN   \n",
       "1               NaN                NaN                   NaN   \n",
       "\n",
       "   H_avg_away_goals_s2d  ...  A_total_points_s2d  A_avg_home_points_s2d  \\\n",
       "0                   NaN  ...                 NaN                    NaN   \n",
       "1                   NaN  ...                 NaN                    NaN   \n",
       "\n",
       "   A_avg_away_points_s2d  A_avg_points_s2d  A_home_points_against_s2d  \\\n",
       "0                    NaN               NaN                        NaN   \n",
       "1                    NaN               NaN                        NaN   \n",
       "\n",
       "   A_away_points_against_s2d  A_total_points_against_s2d  \\\n",
       "0                        NaN                         NaN   \n",
       "1                        NaN                         NaN   \n",
       "\n",
       "   A_avg_home_points_against_s2d  A_avg_away_points_against_s2d  \\\n",
       "0                            NaN                            NaN   \n",
       "1                            NaN                            NaN   \n",
       "\n",
       "   A_avg_points_against_s2d  \n",
       "0                       NaN  \n",
       "1                       NaN  \n",
       "\n",
       "[2 rows x 125 columns]"
      ]
     },
     "execution_count": 5,
     "metadata": {},
     "output_type": "execute_result"
    }
   ],
   "source": [
    "# df_s2d = pd.read_csv('sl_derived_dataset_2023_06.csv')\n",
    "df_s2d = pd.read_csv(\"..\\datasets\\SL_outputs\\sl_derived_dataset_2023_06.csv\")\n",
    "print(df_s2d.shape)\n",
    "df_s2d.head(2)\n",
    "# Note: it is normal to see NaN values at the start of each season"
   ]
  },
  {
   "attachments": {},
   "cell_type": "markdown",
   "id": "b8bceb01",
   "metadata": {},
   "source": [
    "#### Trim the derived DF to remove, date, season number, as well as team names.\n",
    "Rationale: they aren't necessary to predict a match's outcome based on the two team's season-to-date performance"
   ]
  },
  {
   "cell_type": "code",
   "execution_count": 6,
   "id": "f3a4122c",
   "metadata": {
    "scrolled": true
   },
   "outputs": [
    {
     "name": "stdout",
     "output_type": "stream",
     "text": [
      "(7115, 121)\n"
     ]
    },
    {
     "data": {
      "text/html": [
       "<div>\n",
       "<style scoped>\n",
       "    .dataframe tbody tr th:only-of-type {\n",
       "        vertical-align: middle;\n",
       "    }\n",
       "\n",
       "    .dataframe tbody tr th {\n",
       "        vertical-align: top;\n",
       "    }\n",
       "\n",
       "    .dataframe thead th {\n",
       "        text-align: right;\n",
       "    }\n",
       "</style>\n",
       "<table border=\"1\" class=\"dataframe\">\n",
       "  <thead>\n",
       "    <tr style=\"text-align: right;\">\n",
       "      <th></th>\n",
       "      <th>FTR</th>\n",
       "      <th>H_home_goals_s2d</th>\n",
       "      <th>H_away_goals_s2d</th>\n",
       "      <th>H_total_goals_s2d</th>\n",
       "      <th>H_avg_home_goals_s2d</th>\n",
       "      <th>H_avg_away_goals_s2d</th>\n",
       "      <th>H_avg_goals_s2d</th>\n",
       "      <th>H_home_goals_against_s2d</th>\n",
       "      <th>H_away_goals_against_s2d</th>\n",
       "      <th>H_total_goals_against_s2d</th>\n",
       "      <th>...</th>\n",
       "      <th>A_total_points_s2d</th>\n",
       "      <th>A_avg_home_points_s2d</th>\n",
       "      <th>A_avg_away_points_s2d</th>\n",
       "      <th>A_avg_points_s2d</th>\n",
       "      <th>A_home_points_against_s2d</th>\n",
       "      <th>A_away_points_against_s2d</th>\n",
       "      <th>A_total_points_against_s2d</th>\n",
       "      <th>A_avg_home_points_against_s2d</th>\n",
       "      <th>A_avg_away_points_against_s2d</th>\n",
       "      <th>A_avg_points_against_s2d</th>\n",
       "    </tr>\n",
       "  </thead>\n",
       "  <tbody>\n",
       "    <tr>\n",
       "      <th>5680</th>\n",
       "      <td>A</td>\n",
       "      <td>29.0</td>\n",
       "      <td>21.0</td>\n",
       "      <td>50.0</td>\n",
       "      <td>1.611111</td>\n",
       "      <td>1.166667</td>\n",
       "      <td>1.388889</td>\n",
       "      <td>17.0</td>\n",
       "      <td>22.0</td>\n",
       "      <td>39.0</td>\n",
       "      <td>...</td>\n",
       "      <td>42.0</td>\n",
       "      <td>1.000000</td>\n",
       "      <td>1.333333</td>\n",
       "      <td>1.166667</td>\n",
       "      <td>33.0</td>\n",
       "      <td>24.0</td>\n",
       "      <td>57.0</td>\n",
       "      <td>1.833333</td>\n",
       "      <td>1.333333</td>\n",
       "      <td>1.583333</td>\n",
       "    </tr>\n",
       "    <tr>\n",
       "      <th>7325</th>\n",
       "      <td>H</td>\n",
       "      <td>4.0</td>\n",
       "      <td>12.0</td>\n",
       "      <td>16.0</td>\n",
       "      <td>1.333333</td>\n",
       "      <td>4.000000</td>\n",
       "      <td>2.666667</td>\n",
       "      <td>5.0</td>\n",
       "      <td>3.0</td>\n",
       "      <td>8.0</td>\n",
       "      <td>...</td>\n",
       "      <td>5.0</td>\n",
       "      <td>0.333333</td>\n",
       "      <td>1.333333</td>\n",
       "      <td>0.833333</td>\n",
       "      <td>7.0</td>\n",
       "      <td>4.0</td>\n",
       "      <td>11.0</td>\n",
       "      <td>2.333333</td>\n",
       "      <td>1.333333</td>\n",
       "      <td>1.833333</td>\n",
       "    </tr>\n",
       "    <tr>\n",
       "      <th>7925</th>\n",
       "      <td>A</td>\n",
       "      <td>24.0</td>\n",
       "      <td>17.0</td>\n",
       "      <td>41.0</td>\n",
       "      <td>1.846154</td>\n",
       "      <td>1.133333</td>\n",
       "      <td>1.464286</td>\n",
       "      <td>20.0</td>\n",
       "      <td>19.0</td>\n",
       "      <td>39.0</td>\n",
       "      <td>...</td>\n",
       "      <td>51.0</td>\n",
       "      <td>2.133333</td>\n",
       "      <td>1.583333</td>\n",
       "      <td>1.888889</td>\n",
       "      <td>11.0</td>\n",
       "      <td>16.0</td>\n",
       "      <td>27.0</td>\n",
       "      <td>0.733333</td>\n",
       "      <td>1.333333</td>\n",
       "      <td>1.000000</td>\n",
       "    </tr>\n",
       "    <tr>\n",
       "      <th>3797</th>\n",
       "      <td>H</td>\n",
       "      <td>48.0</td>\n",
       "      <td>34.0</td>\n",
       "      <td>82.0</td>\n",
       "      <td>2.666667</td>\n",
       "      <td>1.789474</td>\n",
       "      <td>2.216216</td>\n",
       "      <td>12.0</td>\n",
       "      <td>16.0</td>\n",
       "      <td>28.0</td>\n",
       "      <td>...</td>\n",
       "      <td>47.0</td>\n",
       "      <td>1.421053</td>\n",
       "      <td>1.111111</td>\n",
       "      <td>1.270270</td>\n",
       "      <td>24.0</td>\n",
       "      <td>26.0</td>\n",
       "      <td>50.0</td>\n",
       "      <td>1.263158</td>\n",
       "      <td>1.444444</td>\n",
       "      <td>1.351351</td>\n",
       "    </tr>\n",
       "  </tbody>\n",
       "</table>\n",
       "<p>4 rows × 121 columns</p>\n",
       "</div>"
      ],
      "text/plain": [
       "     FTR  H_home_goals_s2d  H_away_goals_s2d  H_total_goals_s2d  \\\n",
       "5680   A              29.0              21.0               50.0   \n",
       "7325   H               4.0              12.0               16.0   \n",
       "7925   A              24.0              17.0               41.0   \n",
       "3797   H              48.0              34.0               82.0   \n",
       "\n",
       "      H_avg_home_goals_s2d  H_avg_away_goals_s2d  H_avg_goals_s2d  \\\n",
       "5680              1.611111              1.166667         1.388889   \n",
       "7325              1.333333              4.000000         2.666667   \n",
       "7925              1.846154              1.133333         1.464286   \n",
       "3797              2.666667              1.789474         2.216216   \n",
       "\n",
       "      H_home_goals_against_s2d  H_away_goals_against_s2d  \\\n",
       "5680                      17.0                      22.0   \n",
       "7325                       5.0                       3.0   \n",
       "7925                      20.0                      19.0   \n",
       "3797                      12.0                      16.0   \n",
       "\n",
       "      H_total_goals_against_s2d  ...  A_total_points_s2d  \\\n",
       "5680                       39.0  ...                42.0   \n",
       "7325                        8.0  ...                 5.0   \n",
       "7925                       39.0  ...                51.0   \n",
       "3797                       28.0  ...                47.0   \n",
       "\n",
       "      A_avg_home_points_s2d  A_avg_away_points_s2d  A_avg_points_s2d  \\\n",
       "5680               1.000000               1.333333          1.166667   \n",
       "7325               0.333333               1.333333          0.833333   \n",
       "7925               2.133333               1.583333          1.888889   \n",
       "3797               1.421053               1.111111          1.270270   \n",
       "\n",
       "      A_home_points_against_s2d  A_away_points_against_s2d  \\\n",
       "5680                       33.0                       24.0   \n",
       "7325                        7.0                        4.0   \n",
       "7925                       11.0                       16.0   \n",
       "3797                       24.0                       26.0   \n",
       "\n",
       "      A_total_points_against_s2d  A_avg_home_points_against_s2d  \\\n",
       "5680                        57.0                       1.833333   \n",
       "7325                        11.0                       2.333333   \n",
       "7925                        27.0                       0.733333   \n",
       "3797                        50.0                       1.263158   \n",
       "\n",
       "      A_avg_away_points_against_s2d  A_avg_points_against_s2d  \n",
       "5680                       1.333333                  1.583333  \n",
       "7325                       1.333333                  1.833333  \n",
       "7925                       1.333333                  1.000000  \n",
       "3797                       1.444444                  1.351351  \n",
       "\n",
       "[4 rows x 121 columns]"
      ]
     },
     "execution_count": 6,
     "metadata": {},
     "output_type": "execute_result"
    }
   ],
   "source": [
    "df_s2d = df_s2d.iloc[:,4:]\n",
    "df_s2d = df_s2d.dropna()\n",
    "print(df_s2d.shape)\n",
    "df_s2d.sample(4)"
   ]
  },
  {
   "attachments": {},
   "cell_type": "markdown",
   "id": "fb7d560a",
   "metadata": {},
   "source": [
    "_We see our target column 'FTR', along with all the other 120 derived features.  Now we will split the dataset into X and y values._"
   ]
  },
  {
   "cell_type": "code",
   "execution_count": 7,
   "id": "862adb93",
   "metadata": {
    "scrolled": true
   },
   "outputs": [
    {
     "name": "stdout",
     "output_type": "stream",
     "text": [
      "Index(['FTR', 'H_home_goals_s2d', 'H_away_goals_s2d', 'H_total_goals_s2d',\n",
      "       'H_avg_home_goals_s2d', 'H_avg_away_goals_s2d', 'H_avg_goals_s2d',\n",
      "       'H_home_goals_against_s2d', 'H_away_goals_against_s2d',\n",
      "       'H_total_goals_against_s2d',\n",
      "       ...\n",
      "       'A_total_points_s2d', 'A_avg_home_points_s2d', 'A_avg_away_points_s2d',\n",
      "       'A_avg_points_s2d', 'A_home_points_against_s2d',\n",
      "       'A_away_points_against_s2d', 'A_total_points_against_s2d',\n",
      "       'A_avg_home_points_against_s2d', 'A_avg_away_points_against_s2d',\n",
      "       'A_avg_points_against_s2d'],\n",
      "      dtype='object', length=121)\n"
     ]
    }
   ],
   "source": [
    "print(df_s2d.columns)"
   ]
  },
  {
   "cell_type": "code",
   "execution_count": 8,
   "id": "a050d8c0",
   "metadata": {
    "scrolled": false
   },
   "outputs": [
    {
     "name": "stdout",
     "output_type": "stream",
     "text": [
      "X shape: (7115, 120)\n",
      "y shape: (7115,)\n",
      "Target variable \"FTR\" encoding mapping: {'A': 0, 'D': 1, 'H': 2}\n"
     ]
    }
   ],
   "source": [
    "### Mark the independent and independent features\n",
    "X, y = df_s2d.iloc[:, 1:], df_s2d.iloc[:, 0]\n",
    "\n",
    "print(f'X shape: {X.shape}')\n",
    "print(f'y shape: {y.shape}')\n",
    "# print(f'original y values: {y}')\n",
    "\n",
    "\n",
    "### Encode the target column 'y' to replace categorical values of H, A, and D into numerical values\n",
    "enc = LabelEncoder()\n",
    "y = enc.fit_transform(y)\n",
    "integer_mapping = {l: i for i, l in enumerate(enc.classes_)}\n",
    "print(f'Target variable \"FTR\" encoding mapping: {integer_mapping}')"
   ]
  },
  {
   "attachments": {},
   "cell_type": "markdown",
   "id": "1fdcd8fa",
   "metadata": {},
   "source": [
    "### 1B.  Feature Selection:  Trimming down the Features to use in the models"
   ]
  },
  {
   "cell_type": "code",
   "execution_count": 9,
   "id": "3ee30791",
   "metadata": {},
   "outputs": [
    {
     "data": {
      "text/html": [
       "<div>\n",
       "<style scoped>\n",
       "    .dataframe tbody tr th:only-of-type {\n",
       "        vertical-align: middle;\n",
       "    }\n",
       "\n",
       "    .dataframe tbody tr th {\n",
       "        vertical-align: top;\n",
       "    }\n",
       "\n",
       "    .dataframe thead th {\n",
       "        text-align: right;\n",
       "    }\n",
       "</style>\n",
       "<table border=\"1\" class=\"dataframe\">\n",
       "  <thead>\n",
       "    <tr style=\"text-align: right;\">\n",
       "      <th></th>\n",
       "      <th>H_avg_goals_s2d</th>\n",
       "      <th>H_avg_shots_s2d</th>\n",
       "      <th>H_avg_shots_against_s2d</th>\n",
       "      <th>H_avg_points_s2d</th>\n",
       "      <th>H_avg_points_against_s2d</th>\n",
       "      <th>A_avg_home_goals_s2d</th>\n",
       "      <th>A_avg_goals_s2d</th>\n",
       "      <th>A_avg_home_shots_s2d</th>\n",
       "      <th>A_avg_away_shots_s2d</th>\n",
       "      <th>A_avg_shots_s2d</th>\n",
       "      <th>A_avg_away_shots_against_s2d</th>\n",
       "      <th>A_avg_shots_against_s2d</th>\n",
       "      <th>A_avg_corners_against_s2d</th>\n",
       "      <th>A_avg_home_points_s2d</th>\n",
       "      <th>A_avg_away_points_s2d</th>\n",
       "      <th>A_avg_points_s2d</th>\n",
       "      <th>A_avg_away_points_against_s2d</th>\n",
       "      <th>A_avg_points_against_s2d</th>\n",
       "    </tr>\n",
       "  </thead>\n",
       "  <tbody>\n",
       "    <tr>\n",
       "      <th>39</th>\n",
       "      <td>0.500000</td>\n",
       "      <td>7.250000</td>\n",
       "      <td>16.000000</td>\n",
       "      <td>1.000000</td>\n",
       "      <td>1.750000</td>\n",
       "      <td>3.500000</td>\n",
       "      <td>2.250000</td>\n",
       "      <td>17.500000</td>\n",
       "      <td>13.500000</td>\n",
       "      <td>15.500000</td>\n",
       "      <td>10.000000</td>\n",
       "      <td>8.500000</td>\n",
       "      <td>5.750000</td>\n",
       "      <td>3.000000</td>\n",
       "      <td>0.500000</td>\n",
       "      <td>1.750000</td>\n",
       "      <td>2.000000</td>\n",
       "      <td>1.000000</td>\n",
       "    </tr>\n",
       "    <tr>\n",
       "      <th>42</th>\n",
       "      <td>0.750000</td>\n",
       "      <td>8.500000</td>\n",
       "      <td>9.250000</td>\n",
       "      <td>2.000000</td>\n",
       "      <td>0.500000</td>\n",
       "      <td>2.000000</td>\n",
       "      <td>1.750000</td>\n",
       "      <td>13.000000</td>\n",
       "      <td>12.000000</td>\n",
       "      <td>12.500000</td>\n",
       "      <td>7.000000</td>\n",
       "      <td>7.500000</td>\n",
       "      <td>5.250000</td>\n",
       "      <td>0.500000</td>\n",
       "      <td>1.000000</td>\n",
       "      <td>0.750000</td>\n",
       "      <td>1.000000</td>\n",
       "      <td>1.500000</td>\n",
       "    </tr>\n",
       "    <tr>\n",
       "      <th>43</th>\n",
       "      <td>1.750000</td>\n",
       "      <td>10.750000</td>\n",
       "      <td>10.750000</td>\n",
       "      <td>1.750000</td>\n",
       "      <td>1.000000</td>\n",
       "      <td>2.500000</td>\n",
       "      <td>1.750000</td>\n",
       "      <td>14.500000</td>\n",
       "      <td>8.000000</td>\n",
       "      <td>11.250000</td>\n",
       "      <td>11.500000</td>\n",
       "      <td>10.250000</td>\n",
       "      <td>5.750000</td>\n",
       "      <td>1.500000</td>\n",
       "      <td>1.500000</td>\n",
       "      <td>1.500000</td>\n",
       "      <td>1.500000</td>\n",
       "      <td>1.500000</td>\n",
       "    </tr>\n",
       "    <tr>\n",
       "      <th>44</th>\n",
       "      <td>2.750000</td>\n",
       "      <td>15.750000</td>\n",
       "      <td>11.250000</td>\n",
       "      <td>2.000000</td>\n",
       "      <td>0.500000</td>\n",
       "      <td>1.000000</td>\n",
       "      <td>1.000000</td>\n",
       "      <td>12.500000</td>\n",
       "      <td>9.000000</td>\n",
       "      <td>10.750000</td>\n",
       "      <td>14.500000</td>\n",
       "      <td>14.750000</td>\n",
       "      <td>8.500000</td>\n",
       "      <td>2.000000</td>\n",
       "      <td>0.000000</td>\n",
       "      <td>1.000000</td>\n",
       "      <td>3.000000</td>\n",
       "      <td>1.750000</td>\n",
       "    </tr>\n",
       "    <tr>\n",
       "      <th>45</th>\n",
       "      <td>2.000000</td>\n",
       "      <td>12.000000</td>\n",
       "      <td>10.500000</td>\n",
       "      <td>1.250000</td>\n",
       "      <td>1.250000</td>\n",
       "      <td>2.500000</td>\n",
       "      <td>1.750000</td>\n",
       "      <td>12.500000</td>\n",
       "      <td>11.500000</td>\n",
       "      <td>12.000000</td>\n",
       "      <td>14.000000</td>\n",
       "      <td>10.750000</td>\n",
       "      <td>5.000000</td>\n",
       "      <td>2.000000</td>\n",
       "      <td>0.000000</td>\n",
       "      <td>1.000000</td>\n",
       "      <td>3.000000</td>\n",
       "      <td>1.750000</td>\n",
       "    </tr>\n",
       "    <tr>\n",
       "      <th>...</th>\n",
       "      <td>...</td>\n",
       "      <td>...</td>\n",
       "      <td>...</td>\n",
       "      <td>...</td>\n",
       "      <td>...</td>\n",
       "      <td>...</td>\n",
       "      <td>...</td>\n",
       "      <td>...</td>\n",
       "      <td>...</td>\n",
       "      <td>...</td>\n",
       "      <td>...</td>\n",
       "      <td>...</td>\n",
       "      <td>...</td>\n",
       "      <td>...</td>\n",
       "      <td>...</td>\n",
       "      <td>...</td>\n",
       "      <td>...</td>\n",
       "      <td>...</td>\n",
       "    </tr>\n",
       "    <tr>\n",
       "      <th>8015</th>\n",
       "      <td>1.324324</td>\n",
       "      <td>10.972973</td>\n",
       "      <td>11.702703</td>\n",
       "      <td>1.216216</td>\n",
       "      <td>1.378378</td>\n",
       "      <td>1.684211</td>\n",
       "      <td>1.540541</td>\n",
       "      <td>14.684211</td>\n",
       "      <td>12.166667</td>\n",
       "      <td>13.459459</td>\n",
       "      <td>14.833333</td>\n",
       "      <td>13.648649</td>\n",
       "      <td>5.567568</td>\n",
       "      <td>1.842105</td>\n",
       "      <td>1.277778</td>\n",
       "      <td>1.567568</td>\n",
       "      <td>1.444444</td>\n",
       "      <td>1.162162</td>\n",
       "    </tr>\n",
       "    <tr>\n",
       "      <th>8016</th>\n",
       "      <td>1.567568</td>\n",
       "      <td>11.432432</td>\n",
       "      <td>14.891892</td>\n",
       "      <td>1.324324</td>\n",
       "      <td>1.405405</td>\n",
       "      <td>1.210526</td>\n",
       "      <td>1.135135</td>\n",
       "      <td>12.421053</td>\n",
       "      <td>13.277778</td>\n",
       "      <td>12.837838</td>\n",
       "      <td>12.888889</td>\n",
       "      <td>13.108108</td>\n",
       "      <td>5.243243</td>\n",
       "      <td>1.315789</td>\n",
       "      <td>0.833333</td>\n",
       "      <td>1.081081</td>\n",
       "      <td>1.833333</td>\n",
       "      <td>1.567568</td>\n",
       "    </tr>\n",
       "    <tr>\n",
       "      <th>8017</th>\n",
       "      <td>2.459459</td>\n",
       "      <td>18.945946</td>\n",
       "      <td>7.810811</td>\n",
       "      <td>2.405405</td>\n",
       "      <td>0.378378</td>\n",
       "      <td>1.052632</td>\n",
       "      <td>1.000000</td>\n",
       "      <td>11.736842</td>\n",
       "      <td>9.555556</td>\n",
       "      <td>10.675676</td>\n",
       "      <td>14.277778</td>\n",
       "      <td>13.027027</td>\n",
       "      <td>5.378378</td>\n",
       "      <td>1.263158</td>\n",
       "      <td>1.500000</td>\n",
       "      <td>1.378378</td>\n",
       "      <td>1.333333</td>\n",
       "      <td>1.459459</td>\n",
       "    </tr>\n",
       "    <tr>\n",
       "      <th>8018</th>\n",
       "      <td>2.594595</td>\n",
       "      <td>18.675676</td>\n",
       "      <td>6.297297</td>\n",
       "      <td>2.432432</td>\n",
       "      <td>0.405405</td>\n",
       "      <td>1.526316</td>\n",
       "      <td>1.351351</td>\n",
       "      <td>12.368421</td>\n",
       "      <td>11.944444</td>\n",
       "      <td>12.162162</td>\n",
       "      <td>12.666667</td>\n",
       "      <td>12.243243</td>\n",
       "      <td>5.648649</td>\n",
       "      <td>1.210526</td>\n",
       "      <td>1.222222</td>\n",
       "      <td>1.216216</td>\n",
       "      <td>1.722222</td>\n",
       "      <td>1.621622</td>\n",
       "    </tr>\n",
       "    <tr>\n",
       "      <th>8019</th>\n",
       "      <td>0.621622</td>\n",
       "      <td>9.864865</td>\n",
       "      <td>16.540541</td>\n",
       "      <td>0.594595</td>\n",
       "      <td>2.216216</td>\n",
       "      <td>2.000000</td>\n",
       "      <td>1.729730</td>\n",
       "      <td>13.684211</td>\n",
       "      <td>11.777778</td>\n",
       "      <td>12.756757</td>\n",
       "      <td>14.277778</td>\n",
       "      <td>12.756757</td>\n",
       "      <td>5.135135</td>\n",
       "      <td>2.105263</td>\n",
       "      <td>1.555556</td>\n",
       "      <td>1.837838</td>\n",
       "      <td>1.222222</td>\n",
       "      <td>1.027027</td>\n",
       "    </tr>\n",
       "  </tbody>\n",
       "</table>\n",
       "<p>7115 rows × 18 columns</p>\n",
       "</div>"
      ],
      "text/plain": [
       "      H_avg_goals_s2d  H_avg_shots_s2d  H_avg_shots_against_s2d  \\\n",
       "39           0.500000         7.250000                16.000000   \n",
       "42           0.750000         8.500000                 9.250000   \n",
       "43           1.750000        10.750000                10.750000   \n",
       "44           2.750000        15.750000                11.250000   \n",
       "45           2.000000        12.000000                10.500000   \n",
       "...               ...              ...                      ...   \n",
       "8015         1.324324        10.972973                11.702703   \n",
       "8016         1.567568        11.432432                14.891892   \n",
       "8017         2.459459        18.945946                 7.810811   \n",
       "8018         2.594595        18.675676                 6.297297   \n",
       "8019         0.621622         9.864865                16.540541   \n",
       "\n",
       "      H_avg_points_s2d  H_avg_points_against_s2d  A_avg_home_goals_s2d  \\\n",
       "39            1.000000                  1.750000              3.500000   \n",
       "42            2.000000                  0.500000              2.000000   \n",
       "43            1.750000                  1.000000              2.500000   \n",
       "44            2.000000                  0.500000              1.000000   \n",
       "45            1.250000                  1.250000              2.500000   \n",
       "...                ...                       ...                   ...   \n",
       "8015          1.216216                  1.378378              1.684211   \n",
       "8016          1.324324                  1.405405              1.210526   \n",
       "8017          2.405405                  0.378378              1.052632   \n",
       "8018          2.432432                  0.405405              1.526316   \n",
       "8019          0.594595                  2.216216              2.000000   \n",
       "\n",
       "      A_avg_goals_s2d  A_avg_home_shots_s2d  A_avg_away_shots_s2d  \\\n",
       "39           2.250000             17.500000             13.500000   \n",
       "42           1.750000             13.000000             12.000000   \n",
       "43           1.750000             14.500000              8.000000   \n",
       "44           1.000000             12.500000              9.000000   \n",
       "45           1.750000             12.500000             11.500000   \n",
       "...               ...                   ...                   ...   \n",
       "8015         1.540541             14.684211             12.166667   \n",
       "8016         1.135135             12.421053             13.277778   \n",
       "8017         1.000000             11.736842              9.555556   \n",
       "8018         1.351351             12.368421             11.944444   \n",
       "8019         1.729730             13.684211             11.777778   \n",
       "\n",
       "      A_avg_shots_s2d  A_avg_away_shots_against_s2d  A_avg_shots_against_s2d  \\\n",
       "39          15.500000                     10.000000                 8.500000   \n",
       "42          12.500000                      7.000000                 7.500000   \n",
       "43          11.250000                     11.500000                10.250000   \n",
       "44          10.750000                     14.500000                14.750000   \n",
       "45          12.000000                     14.000000                10.750000   \n",
       "...               ...                           ...                      ...   \n",
       "8015        13.459459                     14.833333                13.648649   \n",
       "8016        12.837838                     12.888889                13.108108   \n",
       "8017        10.675676                     14.277778                13.027027   \n",
       "8018        12.162162                     12.666667                12.243243   \n",
       "8019        12.756757                     14.277778                12.756757   \n",
       "\n",
       "      A_avg_corners_against_s2d  A_avg_home_points_s2d  A_avg_away_points_s2d  \\\n",
       "39                     5.750000               3.000000               0.500000   \n",
       "42                     5.250000               0.500000               1.000000   \n",
       "43                     5.750000               1.500000               1.500000   \n",
       "44                     8.500000               2.000000               0.000000   \n",
       "45                     5.000000               2.000000               0.000000   \n",
       "...                         ...                    ...                    ...   \n",
       "8015                   5.567568               1.842105               1.277778   \n",
       "8016                   5.243243               1.315789               0.833333   \n",
       "8017                   5.378378               1.263158               1.500000   \n",
       "8018                   5.648649               1.210526               1.222222   \n",
       "8019                   5.135135               2.105263               1.555556   \n",
       "\n",
       "      A_avg_points_s2d  A_avg_away_points_against_s2d  \\\n",
       "39            1.750000                       2.000000   \n",
       "42            0.750000                       1.000000   \n",
       "43            1.500000                       1.500000   \n",
       "44            1.000000                       3.000000   \n",
       "45            1.000000                       3.000000   \n",
       "...                ...                            ...   \n",
       "8015          1.567568                       1.444444   \n",
       "8016          1.081081                       1.833333   \n",
       "8017          1.378378                       1.333333   \n",
       "8018          1.216216                       1.722222   \n",
       "8019          1.837838                       1.222222   \n",
       "\n",
       "      A_avg_points_against_s2d  \n",
       "39                    1.000000  \n",
       "42                    1.500000  \n",
       "43                    1.500000  \n",
       "44                    1.750000  \n",
       "45                    1.750000  \n",
       "...                        ...  \n",
       "8015                  1.162162  \n",
       "8016                  1.567568  \n",
       "8017                  1.459459  \n",
       "8018                  1.621622  \n",
       "8019                  1.027027  \n",
       "\n",
       "[7115 rows x 18 columns]"
      ]
     },
     "execution_count": 9,
     "metadata": {},
     "output_type": "execute_result"
    }
   ],
   "source": [
    "selector = SelectKBest(k=18)\n",
    "\n",
    "#fit_transform returns the data after selecting the best features\n",
    "X_best = selector.fit_transform(X, y)\n",
    "\n",
    "# get_support is a method of SelectKBest class\n",
    "cols_idxs = selector.get_support(indices=True)\n",
    "top_features_df = X.iloc[:,cols_idxs]\n",
    "top_features_df"
   ]
  },
  {
   "cell_type": "code",
   "execution_count": 10,
   "id": "9ab2744b",
   "metadata": {},
   "outputs": [
    {
     "data": {
      "text/plain": [
       "Index(['H_avg_goals_s2d', 'H_avg_shots_s2d', 'H_avg_shots_against_s2d',\n",
       "       'H_avg_points_s2d', 'H_avg_points_against_s2d', 'A_avg_home_goals_s2d',\n",
       "       'A_avg_goals_s2d', 'A_avg_home_shots_s2d', 'A_avg_away_shots_s2d',\n",
       "       'A_avg_shots_s2d', 'A_avg_away_shots_against_s2d',\n",
       "       'A_avg_shots_against_s2d', 'A_avg_corners_against_s2d',\n",
       "       'A_avg_home_points_s2d', 'A_avg_away_points_s2d', 'A_avg_points_s2d',\n",
       "       'A_avg_away_points_against_s2d', 'A_avg_points_against_s2d'],\n",
       "      dtype='object')"
      ]
     },
     "execution_count": 10,
     "metadata": {},
     "output_type": "execute_result"
    }
   ],
   "source": [
    "top_features_df.columns"
   ]
  },
  {
   "attachments": {},
   "cell_type": "markdown",
   "id": "ec2e73a6",
   "metadata": {},
   "source": [
    "### 1C. Split train/test data and standardize feature values"
   ]
  },
  {
   "cell_type": "code",
   "execution_count": 11,
   "id": "16d8b677",
   "metadata": {},
   "outputs": [],
   "source": [
    "#### Split our data for training and testing  \n",
    "\n",
    "X_train, X_test, y_train, y_test = train_test_split(X_best, y, test_size=0.35, stratify=y, random_state=0)\n",
    "\n",
    "\n",
    "# Scale the independent Features for standardization\n",
    "sc = StandardScaler()\n",
    "X_train = sc.fit_transform(X_train) \n",
    "X_test = sc.transform(X_test)"
   ]
  },
  {
   "attachments": {},
   "cell_type": "markdown",
   "id": "bd94b646",
   "metadata": {},
   "source": [
    "### 1D.  Dummy Classifier as a reference point"
   ]
  },
  {
   "cell_type": "code",
   "execution_count": 12,
   "id": "f45a50fd",
   "metadata": {
    "scrolled": false
   },
   "outputs": [
    {
     "name": "stdout",
     "output_type": "stream",
     "text": [
      "Encoding y mapping: {'A': 0, 'D': 1, 'H': 2}\n",
      "Model Accuracy Score: 0.3500602167804095\n",
      "==========================================\n",
      "Dummy Classification Report:\n",
      "               precision    recall  f1-score   support\n",
      "\n",
      "           0       0.27      0.26      0.27       718\n",
      "           1       0.26      0.26      0.26       625\n",
      "           2       0.45      0.45      0.45      1148\n",
      "\n",
      "    accuracy                           0.35      2491\n",
      "   macro avg       0.33      0.33      0.33      2491\n",
      "weighted avg       0.35      0.35      0.35      2491\n",
      "\n",
      "\n",
      "==========================================\n"
     ]
    },
    {
     "data": {
      "image/png": "[encoded data removed]",
      "text/plain": [
       "<Figure size 640x480 with 2 Axes>"
      ]
     },
     "metadata": {},
     "output_type": "display_data"
    }
   ],
   "source": [
    "model_name = \"Dummy\"\n",
    "dummy_clf = DummyClassifier(strategy='stratified', random_state=42)\n",
    "dummy_clf.fit(X_train, y_train)\n",
    "dummy_pred = dummy_clf.predict(X_test)\n",
    "\n",
    "\n",
    "print(f'Encoding y mapping: {integer_mapping}')\n",
    "model_evaluation(y_test, dummy_pred, model_name, dummy_clf)"
   ]
  },
  {
   "attachments": {},
   "cell_type": "markdown",
   "id": "d4ea59ee",
   "metadata": {},
   "source": [
    "# 2. Model Creation / evaluation"
   ]
  },
  {
   "attachments": {},
   "cell_type": "markdown",
   "id": "4f4a1a69",
   "metadata": {},
   "source": [
    "### 2a. Probabilistic model: Logistic Regression "
   ]
  },
  {
   "cell_type": "code",
   "execution_count": 13,
   "id": "0f709d67",
   "metadata": {},
   "outputs": [
    {
     "name": "stdout",
     "output_type": "stream",
     "text": [
      "Encoding y mapping: {'A': 0, 'D': 1, 'H': 2}\n",
      "Model Accuracy Score: 0.5327177840224809\n",
      "==========================================\n",
      "LogisticRegression Classification Report:\n",
      "               precision    recall  f1-score   support\n",
      "\n",
      "           0       0.51      0.51      0.51       718\n",
      "           1       0.50      0.00      0.00       625\n",
      "           2       0.54      0.84      0.66      1148\n",
      "\n",
      "    accuracy                           0.53      2491\n",
      "   macro avg       0.52      0.45      0.39      2491\n",
      "weighted avg       0.52      0.53      0.45      2491\n",
      "\n",
      "\n",
      "==========================================\n"
     ]
    },
    {
     "data": {
      "image/png": "[encoded data removed]",
      "text/plain": [
       "<Figure size 640x480 with 2 Axes>"
      ]
     },
     "metadata": {},
     "output_type": "display_data"
    }
   ],
   "source": [
    "# Logistic Regression Classifier\n",
    "model_name = 'LogisticRegression'\n",
    "log_reg_clf = LogisticRegression(solver='liblinear', random_state=0, \n",
    "                                 max_iter=1000).fit(X_train, y_train)\n",
    "Y_pred = log_reg_clf.predict(X_test)\n",
    "\n",
    "model = log_reg_clf\n",
    "\n",
    "print(f'Encoding y mapping: {integer_mapping}')\n",
    "model_evaluation(y_test, Y_pred, model_name, model)"
   ]
  },
  {
   "cell_type": "code",
   "execution_count": 14,
   "id": "012a8898",
   "metadata": {},
   "outputs": [
    {
     "name": "stdout",
     "output_type": "stream",
     "text": [
      "========================\n",
      "LogisticRegression Five Cross Fold Validation Scores:\n",
      " [0.53297297 0.52108108 0.50918919 0.53945946 0.53354978]\n",
      "Mean: 0.527\n",
      "Standard Deviation: 0.011\n",
      "========================\n"
     ]
    }
   ],
   "source": [
    "cross_val_score_calc(model, model_name, X_train, y_train, cv_int=5)"
   ]
  },
  {
   "attachments": {},
   "cell_type": "markdown",
   "id": "f026226c",
   "metadata": {},
   "source": [
    "#### Feature Importance Analysis for Logistic Regression Model"
   ]
  },
  {
   "cell_type": "code",
   "execution_count": 15,
   "id": "db28840b",
   "metadata": {},
   "outputs": [
    {
     "data": {
      "text/html": [
       "<div>\n",
       "<style scoped>\n",
       "    .dataframe tbody tr th:only-of-type {\n",
       "        vertical-align: middle;\n",
       "    }\n",
       "\n",
       "    .dataframe tbody tr th {\n",
       "        vertical-align: top;\n",
       "    }\n",
       "\n",
       "    .dataframe thead th {\n",
       "        text-align: right;\n",
       "    }\n",
       "</style>\n",
       "<table border=\"1\" class=\"dataframe\">\n",
       "  <thead>\n",
       "    <tr style=\"text-align: right;\">\n",
       "      <th></th>\n",
       "      <th>Feature</th>\n",
       "      <th>Coefficient</th>\n",
       "    </tr>\n",
       "  </thead>\n",
       "  <tbody>\n",
       "    <tr>\n",
       "      <th>15</th>\n",
       "      <td>A_avg_points_s2d</td>\n",
       "      <td>0.372388</td>\n",
       "    </tr>\n",
       "    <tr>\n",
       "      <th>3</th>\n",
       "      <td>H_avg_points_s2d</td>\n",
       "      <td>-0.290295</td>\n",
       "    </tr>\n",
       "    <tr>\n",
       "      <th>1</th>\n",
       "      <td>H_avg_shots_s2d</td>\n",
       "      <td>-0.259112</td>\n",
       "    </tr>\n",
       "    <tr>\n",
       "      <th>12</th>\n",
       "      <td>A_avg_corners_against_s2d</td>\n",
       "      <td>-0.202801</td>\n",
       "    </tr>\n",
       "    <tr>\n",
       "      <th>2</th>\n",
       "      <td>H_avg_shots_against_s2d</td>\n",
       "      <td>0.164847</td>\n",
       "    </tr>\n",
       "    <tr>\n",
       "      <th>9</th>\n",
       "      <td>A_avg_shots_s2d</td>\n",
       "      <td>0.134019</td>\n",
       "    </tr>\n",
       "    <tr>\n",
       "      <th>10</th>\n",
       "      <td>A_avg_away_shots_against_s2d</td>\n",
       "      <td>-0.106133</td>\n",
       "    </tr>\n",
       "    <tr>\n",
       "      <th>8</th>\n",
       "      <td>A_avg_away_shots_s2d</td>\n",
       "      <td>0.097103</td>\n",
       "    </tr>\n",
       "    <tr>\n",
       "      <th>7</th>\n",
       "      <td>A_avg_home_shots_s2d</td>\n",
       "      <td>-0.050031</td>\n",
       "    </tr>\n",
       "    <tr>\n",
       "      <th>5</th>\n",
       "      <td>A_avg_home_goals_s2d</td>\n",
       "      <td>-0.040389</td>\n",
       "    </tr>\n",
       "  </tbody>\n",
       "</table>\n",
       "</div>"
      ],
      "text/plain": [
       "                         Feature  Coefficient\n",
       "15              A_avg_points_s2d     0.372388\n",
       "3               H_avg_points_s2d    -0.290295\n",
       "1                H_avg_shots_s2d    -0.259112\n",
       "12     A_avg_corners_against_s2d    -0.202801\n",
       "2        H_avg_shots_against_s2d     0.164847\n",
       "9                A_avg_shots_s2d     0.134019\n",
       "10  A_avg_away_shots_against_s2d    -0.106133\n",
       "8           A_avg_away_shots_s2d     0.097103\n",
       "7           A_avg_home_shots_s2d    -0.050031\n",
       "5           A_avg_home_goals_s2d    -0.040389"
      ]
     },
     "execution_count": 15,
     "metadata": {},
     "output_type": "execute_result"
    }
   ],
   "source": [
    "# Get the feature names from the DataFrame, assuming they're in the same order as the features in the model\n",
    "feature_names = top_features_df.columns\n",
    "\n",
    "# Get the coefficients from the logistic regression model\n",
    "coefficients = log_reg_clf.coef_[0]\n",
    "\n",
    "# Create a DataFrame with the feature names and coefficients\n",
    "feature_importance_df = pd.DataFrame({\n",
    "    'Feature': feature_names,\n",
    "    'Coefficient': coefficients\n",
    "})\n",
    "\n",
    "# Sort by the absolute value of the coefficient\n",
    "feature_importance_df = feature_importance_df.reindex(\n",
    "    feature_importance_df.Coefficient.abs().sort_values(ascending=False).index\n",
    ")\n",
    "\n",
    "feature_importance_df.head(10)"
   ]
  },
  {
   "cell_type": "code",
   "execution_count": 16,
   "id": "9b13d522",
   "metadata": {},
   "outputs": [
    {
     "data": {
      "image/png": "[encoded data removed]",
      "text/plain": [
       "<Figure size 1000x500 with 1 Axes>"
      ]
     },
     "metadata": {},
     "output_type": "display_data"
    }
   ],
   "source": [
    "# Select the top 10 features\n",
    "top_features = feature_importance_df.iloc[:10]\n",
    "\n",
    "plt.figure(figsize=(10, 5))\n",
    "plt.barh(top_features['Feature'], top_features['Coefficient'], color='skyblue')\n",
    "plt.xlabel('Coefficient')\n",
    "plt.title('Top 10 Features by Coefficient Magnitude for Logistic Regression Model')\n",
    "plt.gca().invert_yaxis()\n",
    "plt.show()"
   ]
  },
  {
   "attachments": {},
   "cell_type": "markdown",
   "id": "52c38f9f",
   "metadata": {},
   "source": [
    "#### Sensitivity Analysis for Logistic Regression Model"
   ]
  },
  {
   "cell_type": "code",
   "execution_count": 17,
   "id": "5536127a",
   "metadata": {},
   "outputs": [
    {
     "name": "stdout",
     "output_type": "stream",
     "text": [
      "Model Accuracy Score: 0.5323163388197512\n",
      "==========================================\n",
      "LogisticRegression_with_C_0,5 Classification Report:\n",
      "               precision    recall  f1-score   support\n",
      "\n",
      "           0       0.50      0.51      0.51       718\n",
      "           1       0.50      0.00      0.00       625\n",
      "           2       0.54      0.84      0.66      1148\n",
      "\n",
      "    accuracy                           0.53      2491\n",
      "   macro avg       0.52      0.45      0.39      2491\n",
      "weighted avg       0.52      0.53      0.45      2491\n",
      "\n",
      "\n",
      "==========================================\n"
     ]
    },
    {
     "data": {
      "image/png": "[encoded data removed]",
      "text/plain": [
       "<Figure size 640x480 with 2 Axes>"
      ]
     },
     "metadata": {},
     "output_type": "display_data"
    }
   ],
   "source": [
    "# Setting the parameter C (regularization coefficient) to 0.5.\n",
    "clf = LogisticRegression(solver='liblinear', C=0.5, random_state=0, max_iter=1000)\n",
    "clf.fit(X_train, y_train)\n",
    "y_pred = clf.predict(X_test)\n",
    "\n",
    "# evaluate model performance\n",
    "model_evaluation(y_test, y_pred, f'{model_name}_with_C_0,5', model)"
   ]
  },
  {
   "cell_type": "code",
   "execution_count": 18,
   "id": "0a2755c9",
   "metadata": {},
   "outputs": [
    {
     "name": "stdout",
     "output_type": "stream",
     "text": [
      "Model Accuracy Score: 0.5327177840224809\n",
      "==========================================\n",
      "LogisticRegression_with_random_state_5 Classification Report:\n",
      "               precision    recall  f1-score   support\n",
      "\n",
      "           0       0.51      0.51      0.51       718\n",
      "           1       0.50      0.00      0.00       625\n",
      "           2       0.54      0.84      0.66      1148\n",
      "\n",
      "    accuracy                           0.53      2491\n",
      "   macro avg       0.52      0.45      0.39      2491\n",
      "weighted avg       0.52      0.53      0.45      2491\n",
      "\n",
      "\n",
      "==========================================\n"
     ]
    },
    {
     "data": {
      "image/png": "[encoded data removed]",
      "text/plain": [
       "<Figure size 640x480 with 2 Axes>"
      ]
     },
     "metadata": {},
     "output_type": "display_data"
    }
   ],
   "source": [
    "# change random_state parameter\n",
    "clf2 = LogisticRegression(solver='liblinear', random_state=5, max_iter=1000)\n",
    "clf2.fit(X_train, y_train)\n",
    "y_pred2 = clf2.predict(X_test)\n",
    "\n",
    "# evaluate model performance\n",
    "model_evaluation(y_test, y_pred2, f'{model_name}_with_random_state_5', model)"
   ]
  },
  {
   "cell_type": "code",
   "execution_count": 19,
   "id": "59a341a2",
   "metadata": {},
   "outputs": [
    {
     "name": "stdout",
     "output_type": "stream",
     "text": [
      "Model Accuracy Score: 0.5335206744279406\n",
      "==========================================\n",
      "LogisticRegression_with_solver_sag Classification Report:\n",
      "               precision    recall  f1-score   support\n",
      "\n",
      "           0       0.51      0.51      0.51       718\n",
      "           1       0.50      0.00      0.00       625\n",
      "           2       0.54      0.84      0.66      1148\n",
      "\n",
      "    accuracy                           0.53      2491\n",
      "   macro avg       0.52      0.45      0.39      2491\n",
      "weighted avg       0.52      0.53      0.45      2491\n",
      "\n",
      "\n",
      "==========================================\n"
     ]
    },
    {
     "data": {
      "image/png": "[encoded data removed]",
      "text/plain": [
       "<Figure size 640x480 with 2 Axes>"
      ]
     },
     "metadata": {},
     "output_type": "display_data"
    }
   ],
   "source": [
    "# change solver parameter\n",
    "clf3 = LogisticRegression(solver='sag', random_state=0, max_iter=1000)\n",
    "clf3.fit(X_train, y_train)\n",
    "y_pred3 = clf3.predict(X_test)\n",
    "\n",
    "# evaluate model performance\n",
    "model_evaluation(y_test, y_pred3, f'{model_name}_with_solver_sag', model)"
   ]
  },
  {
   "attachments": {},
   "cell_type": "markdown",
   "id": "93a27d17",
   "metadata": {},
   "source": [
    "### 2b. Non probabilistic model: SVM"
   ]
  },
  {
   "cell_type": "code",
   "execution_count": 20,
   "id": "1df8efc8",
   "metadata": {
    "scrolled": false
   },
   "outputs": [
    {
     "name": "stdout",
     "output_type": "stream",
     "text": [
      "Encoding y mapping: {'A': 0, 'D': 1, 'H': 2}\n",
      "Model Accuracy Score: 0.537133681252509\n",
      "==========================================\n",
      "SVM Classification Report:\n",
      "               precision    recall  f1-score   support\n",
      "\n",
      "           0       0.53      0.48      0.50       718\n",
      "           1       0.20      0.00      0.00       625\n",
      "           2       0.54      0.86      0.67      1148\n",
      "\n",
      "    accuracy                           0.54      2491\n",
      "   macro avg       0.42      0.45      0.39      2491\n",
      "weighted avg       0.45      0.54      0.45      2491\n",
      "\n",
      "\n",
      "==========================================\n"
     ]
    },
    {
     "data": {
      "image/png": "[encoded data removed]",
      "text/plain": [
       "<Figure size 640x480 with 2 Axes>"
      ]
     },
     "metadata": {},
     "output_type": "display_data"
    }
   ],
   "source": [
    "model_name = 'SVM'\n",
    "svm_clf = svm.SVC()\n",
    "svm_clf.fit(X_train, y_train)\n",
    "Y_pred = svm_clf.predict(X_test)\n",
    "model = svm_clf \n",
    "\n",
    "print(f'Encoding y mapping: {integer_mapping}')\n",
    "model_evaluation(y_test, Y_pred, model_name, model)"
   ]
  },
  {
   "cell_type": "code",
   "execution_count": 21,
   "id": "157fe673",
   "metadata": {},
   "outputs": [
    {
     "name": "stdout",
     "output_type": "stream",
     "text": [
      "========================\n",
      "SVM Five Cross Fold Validation Scores:\n",
      " [0.52324324 0.51351351 0.51027027 0.53621622 0.53138528]\n",
      "Mean: 0.523\n",
      "Standard Deviation: 0.01\n",
      "========================\n"
     ]
    }
   ],
   "source": [
    "cross_val_score_calc(model, model_name, X_train, y_train, cv_int=5)"
   ]
  },
  {
   "attachments": {},
   "cell_type": "markdown",
   "id": "c736a1b2",
   "metadata": {},
   "source": [
    "### 2c. Tree based Model: Random Forest"
   ]
  },
  {
   "cell_type": "code",
   "execution_count": 22,
   "id": "a82e2079",
   "metadata": {},
   "outputs": [
    {
     "name": "stdout",
     "output_type": "stream",
     "text": [
      "Encoding y mapping: {'A': 0, 'D': 1, 'H': 2}\n",
      "Model Accuracy Score: 0.5114411882778\n",
      "==========================================\n",
      "RandomForest Classification Report:\n",
      "               precision    recall  f1-score   support\n",
      "\n",
      "           0       0.49      0.49      0.49       718\n",
      "           1       0.27      0.09      0.13       625\n",
      "           2       0.55      0.75      0.64      1148\n",
      "\n",
      "    accuracy                           0.51      2491\n",
      "   macro avg       0.44      0.44      0.42      2491\n",
      "weighted avg       0.46      0.51      0.47      2491\n",
      "\n",
      "\n",
      "==========================================\n"
     ]
    },
    {
     "data": {
      "image/png": "[encoded data removed]",
      "text/plain": [
       "<Figure size 640x480 with 2 Axes>"
      ]
     },
     "metadata": {},
     "output_type": "display_data"
    }
   ],
   "source": [
    "model_name = 'RandomForest'\n",
    "rf_clf = RandomForestClassifier(max_depth=20, random_state=0)\n",
    "rf_clf.fit(X_train, y_train)\n",
    "Y_pred = rf_clf.predict(X_test)\n",
    "model = rf_clf \n",
    "print(f'Encoding y mapping: {integer_mapping}')\n",
    "model_evaluation(y_test, Y_pred, model_name, model)"
   ]
  },
  {
   "cell_type": "code",
   "execution_count": 23,
   "id": "de2dc8e7",
   "metadata": {},
   "outputs": [
    {
     "name": "stdout",
     "output_type": "stream",
     "text": [
      "========================\n",
      "RandomForest Five Cross Fold Validation Scores:\n",
      " [0.50918919 0.50162162 0.50378378 0.51891892 0.50974026]\n",
      "Mean: 0.509\n",
      "Standard Deviation: 0.006\n",
      "========================\n"
     ]
    }
   ],
   "source": [
    "cross_val_score_calc(model, model_name, X_train, y_train, cv_int=5)"
   ]
  },
  {
   "attachments": {},
   "cell_type": "markdown",
   "id": "407ff93a",
   "metadata": {},
   "source": [
    "Random Forest Notes: \n",
    "- low tree depth hyper param is almost entirely innacurate when classifying Draws (label 1).\n",
    "- Label 2 (Home wins) repeatedly has the highest F1 score."
   ]
  }
 ],
 "metadata": {
  "kernelspec": {
   "display_name": "Python 3 (ipykernel)",
   "language": "python",
   "name": "python3"
  },
  "language_info": {
   "codemirror_mode": {
    "name": "ipython",
    "version": 3
   },
   "file_extension": ".py",
   "mimetype": "text/x-python",
   "name": "python",
   "nbconvert_exporter": "python",
   "pygments_lexer": "ipython3",
   "version": "3.10.8"
  }
 },
 "nbformat": 4,
 "nbformat_minor": 5
}
